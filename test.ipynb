{
 "cells": [
  {
   "cell_type": "code",
   "execution_count": 2,
   "id": "0e7c09f8",
   "metadata": {},
   "outputs": [
    {
     "name": "stdout",
     "output_type": "stream",
     "text": [
      "['\\\\Device\\\\NPF_{02DA791C-F0A1-43BC-8630-2D04FCB4758C}', '\\\\Device\\\\NPF_{D08361B1-143B-401C-BF74-6A3E938942B3}', '\\\\Device\\\\NPF_{EBD181AD-691B-496F-B135-E5E306E40CD9}', '\\\\Device\\\\NPF_{8EC3BC92-1A4D-4669-97C7-ACEDB73B0219}', '\\\\Device\\\\NPF_{6810EA17-31ED-40C9-A33F-61F8C70513F1}', '\\\\Device\\\\NPF_{35F7DBF7-BFF5-11EF-B44B-806E6F6E6963}', '\\\\Device\\\\NPF_{055FC7D8-50EF-11F0-B4B2-448A5B81DF3E}', '\\\\Device\\\\NPF_{055FC7D9-50EF-11F0-B4B2-448A5B81DF3E}', '\\\\Device\\\\NPF_{055FC7DA-50EF-11F0-B4B2-448A5B81DF3E}', '\\\\Device\\\\NPF_{4DD6CE7A-4CF5-11F0-B4B2-806E6F6E6963}', '\\\\Device\\\\NPF_{4DD6CE7B-4CF5-11F0-B4B2-806E6F6E6963}', '\\\\Device\\\\NPF_{4DD6CE7C-4CF5-11F0-B4B2-806E6F6E6963}', '\\\\Device\\\\NPF_{4DD6CFEC-4CF5-11F0-B4B2-448A5B81DF3E}', '\\\\Device\\\\NPF_{4DD6CFED-4CF5-11F0-B4B2-448A5B81DF3E}', '\\\\Device\\\\NPF_{4DD6CFEE-4CF5-11F0-B4B2-448A5B81DF3E}', '\\\\Device\\\\NPF_{4DD6CFEF-4CF5-11F0-B4B2-448A5B81DF3E}', '\\\\Device\\\\NPF_{4DD6CFF0-4CF5-11F0-B4B2-448A5B81DF3E}', '\\\\Device\\\\NPF_{4DD6CFF1-4CF5-11F0-B4B2-448A5B81DF3E}', '\\\\Device\\\\NPF_{BF5CC5E6-364B-42D2-8EFA-0155BB769F32}', '\\\\Device\\\\NPF_{655340F7-CDEA-434E-92A1-585682C6ABFE}', '\\\\Device\\\\NPF_{15FA571D-856E-4C5D-911C-20A5B95792E7}', '\\\\Device\\\\NPF_{C0FCB230-3FB4-4AC9-AEA2-76E1B9986CF1}', '\\\\Device\\\\NPF_{0EC90F1E-80B1-4FF0-AAB5-DF99C37C5137}', '\\\\Device\\\\NPF_{4DD6CF85-4CF5-11F0-B4B2-448A5B81DF3E}', '\\\\Device\\\\NPF_{35F7DCDD-BFF5-11EF-B44B-F6D226C02B7B}', '\\\\Device\\\\NPF_{35F7DCDE-BFF5-11EF-B44B-F6D226C02B7B}', '\\\\Device\\\\NPF_{4DD6CF86-4CF5-11F0-B4B2-448A5B81DF3E}', '\\\\Device\\\\NPF_{4DD6CF87-4CF5-11F0-B4B2-448A5B81DF3E}', '\\\\Device\\\\NPF_{4DD6CFF3-4CF5-11F0-B4B2-448A5B81DF3E}', '\\\\Device\\\\NPF_{35F7DCF1-BFF5-11EF-B44B-F6D226C02B7B}', '\\\\Device\\\\NPF_{4DD6D000-4CF5-11F0-B4B2-448A5B81DF3E}', '\\\\Device\\\\NPF_{4DD6D001-4CF5-11F0-B4B2-448A5B81DF3E}', '\\\\Device\\\\NPF_{4DD6D1AA-4CF5-11F0-B4B2-448A5B81DF3E}', '\\\\Device\\\\NPF_{7F4832F0-BFF5-11EF-B44C-448A5B81DF3E}', '\\\\Device\\\\NPF_{4DD6D1AB-4CF5-11F0-B4B2-448A5B81DF3E}', '\\\\Device\\\\NPF_{4DD6D1AC-4CF5-11F0-B4B2-448A5B81DF3E}', '\\\\Device\\\\NPF_{93123211-9629-4E04-82F0-EA2E4F221468}', '\\\\Device\\\\NPF_{2EE2C70C-A092-4D88-A654-98C8D7645CD5}', '\\\\Device\\\\NPF_{07374750-E68B-490E-9330-9FD785CD71B6}', '\\\\Device\\\\NPF_{AE16377D-5176-4A62-8829-111B869CDCEE}', '\\\\Device\\\\NPF_{D479C50F-C04C-48C0-97D7-59F53597EE2F}', '\\\\Device\\\\NPF_{45E13318-CBCE-4E6A-B29F-FB756F8C46A9}', '\\\\Device\\\\NPF_{5D1DC9DA-781E-43A4-A3EE-326EFD0978E8}']\n"
     ]
    }
   ],
   "source": [
    "from scapy.all import get_if_list\n",
    "print(get_if_list())"
   ]
  },
  {
   "cell_type": "code",
   "execution_count": 2,
   "id": "ac3f4e18",
   "metadata": {},
   "outputs": [
    {
     "name": "stdout",
     "output_type": "stream",
     "text": [
      "Failed to resolve api.youtube.com: [Errno 11001] getaddrinfo failed\n",
      "Failed to resolve static.youtube.com: [Errno 11001] getaddrinfo failed\n",
      "Block IPs for domain and subdomains: {'142.250.197.78', '142.250.71.238', '2404:6800:4005:81f::200e', '142.250.197.238', '142.250.199.78', '142.250.198.110', '142.250.198.238', '2404:6800:4005:817::200e', '2404:6800:4005:821::200e', '2404:6800:4005:812::200e', '142.250.198.174', '142.250.198.46', '2404:6800:4005:822::200e', '142.250.197.110', '142.250.197.142', '142.250.197.46', '142.250.71.206', '2404:6800:4005:814::200e', '142.250.66.46', '142.250.197.174', '142.250.197.206', '142.250.198.142'}\n"
     ]
    }
   ],
   "source": [
    "import socket\n",
    "def block_domain_and_subdomains(domain, subdomains=None):\n",
    "    all_domains = [domain]\n",
    "    if subdomains:\n",
    "        all_domains.extend(subdomains)\n",
    "    else:\n",
    "        # Ví dụ bạn có thể thêm subdomains phổ biến\n",
    "        all_domains.extend([\n",
    "            \"www.\" + domain,\n",
    "            \"m.\" + domain,\n",
    "            \"api.\" + domain,\n",
    "            \"static.\" + domain,\n",
    "        ])\n",
    "\n",
    "    all_ips = set()\n",
    "    for d in all_domains:\n",
    "        try:\n",
    "            ips = set(info[4][0] for info in socket.getaddrinfo(d, None))\n",
    "            all_ips.update(ips)\n",
    "        except Exception as e:\n",
    "            print(f\"Failed to resolve {d}: {e}\")\n",
    "\n",
    "    print(f\"Block IPs for domain and subdomains: {all_ips}\")\n",
    "    # Sau đó bạn chặn tất cả IP này bằng firewall\n",
    "\n",
    "block_domain_and_subdomains(\"youtube.com\")\n"
   ]
  },
  {
   "cell_type": "code",
   "execution_count": 3,
   "id": "eafe1a7c",
   "metadata": {},
   "outputs": [
    {
     "name": "stdout",
     "output_type": "stream",
     "text": [
      "None\n"
     ]
    }
   ],
   "source": [
    "import socket\n",
    "\n",
    "def reverse_dns(ip):\n",
    "    try:\n",
    "        domain = socket.gethostbyaddr(ip)[0]\n",
    "        return domain\n",
    "    except socket.herror:\n",
    "        return None\n",
    "\n",
    "# Ví dụ\n",
    "print(reverse_dns(\"142.250.82.219\"))  # có thể trả về \"dns.google\"\n"
   ]
  },
  {
   "cell_type": "code",
   "execution_count": 1,
   "id": "8518225f",
   "metadata": {},
   "outputs": [
    {
     "data": {
      "text/plain": [
       "'1,2,3'"
      ]
     },
     "execution_count": 1,
     "metadata": {},
     "output_type": "execute_result"
    }
   ],
   "source": [
    "a = [1, 2, 3]\n",
    "','.join(map(str, a))  # '1,2,3'"
   ]
  },
  {
   "cell_type": "code",
   "execution_count": null,
   "id": "66cebd40",
   "metadata": {},
   "outputs": [],
   "source": []
  }
 ],
 "metadata": {
  "kernelspec": {
   "display_name": "Python 3",
   "language": "python",
   "name": "python3"
  },
  "language_info": {
   "codemirror_mode": {
    "name": "ipython",
    "version": 3
   },
   "file_extension": ".py",
   "mimetype": "text/x-python",
   "name": "python",
   "nbconvert_exporter": "python",
   "pygments_lexer": "ipython3",
   "version": "3.12.7"
  }
 },
 "nbformat": 4,
 "nbformat_minor": 5
}
